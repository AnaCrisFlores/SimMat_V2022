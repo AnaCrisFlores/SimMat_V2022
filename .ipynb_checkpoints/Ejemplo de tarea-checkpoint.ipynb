{
 "cells": [
  {
   "cell_type": "markdown",
   "id": "a1242d21",
   "metadata": {},
   "source": [
    "# Ejemplo de tarea\n",
    "Resumen"
   ]
  },
  {
   "cell_type": "markdown",
   "id": "c96109c9",
   "metadata": {},
   "source": [
    "Presentación"
   ]
  }
 ],
 "metadata": {
  "kernelspec": {
   "display_name": "Python 3",
   "language": "python",
   "name": "python3"
  },
  "language_info": {
   "codemirror_mode": {
    "name": "ipython",
    "version": 3
   },
   "file_extension": ".py",
   "mimetype": "text/x-python",
   "name": "python",
   "nbconvert_exporter": "python",
   "pygments_lexer": "ipython3",
   "version": "3.8.8"
  }
 },
 "nbformat": 4,
 "nbformat_minor": 5
}
